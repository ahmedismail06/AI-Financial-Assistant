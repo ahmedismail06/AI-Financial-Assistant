{
 "cells": [
  {
   "cell_type": "code",
   "execution_count": 1,
   "id": "645c32d1-2e8b-43a6-822d-872f4e5bc86e",
   "metadata": {},
   "outputs": [],
   "source": [
    "import os\n",
    "\n",
    "from dotenv import load_dotenv\n",
    "from elevenlabs.client import ElevenLabs\n",
    "from elevenlabs import play\n",
    "\n",
    "def to_voice(text:str):\n",
    "\n",
    "    load_dotenv()\n",
    "\n",
    "    elevenlabs = ElevenLabs(\n",
    "      api_key= \"sk_9a933232ff81c400b482c11131aab0cea138c33325ffa951\"\n",
    "    )\n",
    "\n",
    "    audio = elevenlabs.text_to_speech.convert(\n",
    "        text=text,\n",
    "        voice_id=\"JBFqnCBsd6RMkjVDRZzb\",\n",
    "        model_id=\"eleven_flash_v2_5\",\n",
    "        output_format=\"mp3_44100_128\",\n",
    "    )\n",
    "\n",
    "    play(audio)\n",
    "\n"
   ]
  },
  {
   "cell_type": "code",
   "execution_count": null,
   "id": "7927ec70-0ece-462b-89b8-60b98da17d72",
   "metadata": {},
   "outputs": [],
   "source": []
  }
 ],
 "metadata": {
  "kernelspec": {
   "display_name": "Python 3 (ipykernel)",
   "language": "python",
   "name": "python3"
  },
  "language_info": {
   "codemirror_mode": {
    "name": "ipython",
    "version": 3
   },
   "file_extension": ".py",
   "mimetype": "text/x-python",
   "name": "python",
   "nbconvert_exporter": "python",
   "pygments_lexer": "ipython3",
   "version": "3.13.1"
  }
 },
 "nbformat": 4,
 "nbformat_minor": 5
}
